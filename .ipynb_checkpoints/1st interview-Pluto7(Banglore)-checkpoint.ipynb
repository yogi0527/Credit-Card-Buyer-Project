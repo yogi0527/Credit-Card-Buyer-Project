{
 "cells": [
  {
   "cell_type": "code",
   "execution_count": 2,
   "id": "122ba3d8",
   "metadata": {},
   "outputs": [],
   "source": [
    "list1 = [20,21,33,1,23,11,55,28,22,35,17,28,99,12,24,55,23]"
   ]
  },
  {
   "cell_type": "code",
   "execution_count": 4,
   "id": "851d6303",
   "metadata": {},
   "outputs": [],
   "source": [
    "list1.sort()"
   ]
  },
  {
   "cell_type": "code",
   "execution_count": 5,
   "id": "9bd663e6",
   "metadata": {},
   "outputs": [
    {
     "data": {
      "text/plain": [
       "[1, 11, 12, 17, 20, 21, 22, 23, 23, 24, 28, 28, 33, 35, 55, 55, 99]"
      ]
     },
     "execution_count": 5,
     "metadata": {},
     "output_type": "execute_result"
    }
   ],
   "source": [
    "list1.var"
   ]
  },
  {
   "cell_type": "code",
   "execution_count": 8,
   "id": "7ee5d315",
   "metadata": {},
   "outputs": [],
   "source": [
    "import numpy as np"
   ]
  },
  {
   "cell_type": "code",
   "execution_count": 9,
   "id": "5f7419e0",
   "metadata": {},
   "outputs": [
    {
     "data": {
      "text/plain": [
       "21.863844164759765"
      ]
     },
     "execution_count": 9,
     "metadata": {},
     "output_type": "execute_result"
    }
   ],
   "source": [
    "np.std(list1)"
   ]
  },
  {
   "cell_type": "code",
   "execution_count": 10,
   "id": "d32b596c",
   "metadata": {},
   "outputs": [
    {
     "data": {
      "text/plain": [
       "478.0276816608996"
      ]
     },
     "execution_count": 10,
     "metadata": {},
     "output_type": "execute_result"
    }
   ],
   "source": [
    "np.var(list1)"
   ]
  },
  {
   "cell_type": "code",
   "execution_count": null,
   "id": "ec5c8251",
   "metadata": {},
   "outputs": [],
   "source": []
  },
  {
   "cell_type": "code",
   "execution_count": 12,
   "id": "e99156a9",
   "metadata": {},
   "outputs": [
    {
     "data": {
      "text/plain": [
       "21.863844164759765"
      ]
     },
     "execution_count": 12,
     "metadata": {},
     "output_type": "execute_result"
    }
   ],
   "source": [
    "list1 = [20,21,33,1,23,11,55,28,22,35,17,28,99,12,24,55,23]\n",
    "(sum((x - sum(list1) / len(list1))**2 for x in list1) / len(list1))**0.5"
   ]
  },
  {
   "cell_type": "code",
   "execution_count": 13,
   "id": "db7c681b",
   "metadata": {},
   "outputs": [
    {
     "data": {
      "text/plain": [
       "478.0276816608996"
      ]
     },
     "execution_count": 13,
     "metadata": {},
     "output_type": "execute_result"
    }
   ],
   "source": [
    "list1 = [20,21,33,1,23,11,55,28,22,35,17,28,99,12,24,55,23]\n",
    "mean = sum(list1) / len(list1)\n",
    "result = sum((i - mean) **2 for i in list1) / len(list1)\n",
    "result"
   ]
  },
  {
   "cell_type": "code",
   "execution_count": null,
   "id": "df7dc838",
   "metadata": {},
   "outputs": [],
   "source": [
    "colour = [np.nan, 'Black ', ' Red ', '   White', ' Pink ',\"Yellow\",\"Brown\"]\n",
    "company = [\"asian\", np.nan,'asian','   berger','dulux',np.nan,\"asian\"]\n",
    "rate = [1000,2000,1500,'700','1800',np.nan,800]\n",
    "painter = [\"rajesh\",'ramesh', np.nan,\"dinesh\",'suresh',\"john\",np.nan]\n",
    "customer = [\"John Hopkin\", np.nan \"Krish Roshan\", \"Pulkeet Gupta\",\n",
    "\"Seema Chaturvedi\", \"Levina Kumar\",\"Rajesh Kuber\" ]"
   ]
  },
  {
   "cell_type": "code",
   "execution_count": 14,
   "id": "be4d8640",
   "metadata": {},
   "outputs": [
    {
     "ename": "SyntaxError",
     "evalue": "invalid syntax (Temp/ipykernel_18072/4176020017.py, line 6)",
     "output_type": "error",
     "traceback": [
      "\u001b[1;36m  File \u001b[1;32m\"C:\\Users\\INDIA\\AppData\\Local\\Temp/ipykernel_18072/4176020017.py\"\u001b[1;36m, line \u001b[1;32m6\u001b[0m\n\u001b[1;33m    {\"Customer\":[\"John Hopkin\", np.nan \"Krish Roshan\", \"Pulkeet Gupta\",\u001b[0m\n\u001b[1;37m                                       ^\u001b[0m\n\u001b[1;31mSyntaxError\u001b[0m\u001b[1;31m:\u001b[0m invalid syntax\n"
     ]
    }
   ],
   "source": [
    "import pandas as pd\n",
    "df = pd.DataFrame({\"Colour\":[np.nan,'Black ', ' Red ', '   White', ' Pink ',\"Yellow\",\"Brown\"]},\n",
    "                 {\"Company\":[\"asian\", np.nan,'asian','   berger','dulux',np.nan,\"asian\"]},\n",
    "                 {\"Rate\":[1000,2000,1500,'700','1800',np.nan,800]},\n",
    "                 {\"Painter\":[\"rajesh\",'ramesh', np.nan,\"dinesh\",'suresh',\"john\",np.nan]},\n",
    "                 {\"Customer\":[\"John Hopkin\", np.nan \"Krish Roshan\", \"Pulkeet Gupta\",\n",
    "\"Seema Chaturvedi\", \"Levina Kumar\",\"Rajesh Kuber\"]})\n",
    "df"
   ]
  },
  {
   "cell_type": "code",
   "execution_count": null,
   "id": "c7e00c4f",
   "metadata": {},
   "outputs": [],
   "source": []
  }
 ],
 "metadata": {
  "kernelspec": {
   "display_name": "Python 3 (ipykernel)",
   "language": "python",
   "name": "python3"
  },
  "language_info": {
   "codemirror_mode": {
    "name": "ipython",
    "version": 3
   },
   "file_extension": ".py",
   "mimetype": "text/x-python",
   "name": "python",
   "nbconvert_exporter": "python",
   "pygments_lexer": "ipython3",
   "version": "3.9.7"
  }
 },
 "nbformat": 4,
 "nbformat_minor": 5
}
