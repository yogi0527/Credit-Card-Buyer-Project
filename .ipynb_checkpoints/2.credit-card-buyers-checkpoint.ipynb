{
 "cells": [
  {
   "cell_type": "markdown",
   "id": "917e3819",
   "metadata": {
    "papermill": {
     "duration": 0.032997,
     "end_time": "2021-10-16T08:42:01.847628",
     "exception": false,
     "start_time": "2021-10-16T08:42:01.814631",
     "status": "completed"
    },
    "tags": []
   },
   "source": [
    "<a id='top'></a>\n",
    "<div class=\"list-group\" id=\"list-tab\" role=\"tablist\">\n",
    "<h1 style='background:#b28bb7; border:0; color:black'><center>INDEX</center></h1>\n",
    "\n"
   ]
  },
  {
   "cell_type": "markdown",
   "id": "162d25bc",
   "metadata": {
    "papermill": {
     "duration": 0.032067,
     "end_time": "2021-10-16T08:42:01.913551",
     "exception": false,
     "start_time": "2021-10-16T08:42:01.881484",
     "status": "completed"
    },
    "tags": []
   },
   "source": [
    "- Import Libraries\n",
    "- Import Data\n",
    "- Data Visualization\n",
    "- Data Preprocessing\n",
    "- Train-Test Data\n",
    "- Model Building\n",
    "- Conclusion"
   ]
  },
  {
   "cell_type": "markdown",
   "id": "119c96f3",
   "metadata": {
    "papermill": {
     "duration": 0.031437,
     "end_time": "2021-10-16T08:42:01.978724",
     "exception": false,
     "start_time": "2021-10-16T08:42:01.947287",
     "status": "completed"
    },
    "tags": []
   },
   "source": [
    "<a id=\"1\"></a>\n",
    "<h1 style='background:#b28bb7; border:0; color:black'><center>IMPORT LIBRARIES</center></h1>"
   ]
  },
  {
   "cell_type": "code",
   "execution_count": 1,
   "id": "dcdae769",
   "metadata": {
    "_cell_guid": "b1076dfc-b9ad-4769-8c92-a6c4dae69d19",
    "_uuid": "8f2839f25d086af736a60e9eeb907d3b93b6e0e5",
    "execution": {
     "iopub.execute_input": "2021-10-16T08:42:02.056617Z",
     "iopub.status.busy": "2021-10-16T08:42:02.055603Z",
     "iopub.status.idle": "2021-10-16T08:42:02.068707Z",
     "shell.execute_reply": "2021-10-16T08:42:02.067980Z",
     "shell.execute_reply.started": "2021-10-16T08:33:53.851900Z"
    },
    "papermill": {
     "duration": 0.056792,
     "end_time": "2021-10-16T08:42:02.068871",
     "exception": false,
     "start_time": "2021-10-16T08:42:02.012079",
     "status": "completed"
    },
    "tags": []
   },
   "outputs": [
    {
     "name": "stdout",
     "output_type": "stream",
     "text": [
      "/kaggle/input/credit-card-buyers/test data credit card.csv\n",
      "/kaggle/input/credit-card-buyers/train data credit card.csv\n"
     ]
    }
   ],
   "source": [
    "# This Python 3 environment comes with many helpful analytics libraries installed\n",
    "# It is defined by the kaggle/python Docker image: https://github.com/kaggle/docker-python\n",
    "# For example, here's several helpful packages to load\n",
    "\n",
    "import numpy as np # linear algebra\n",
    "import pandas as pd # data processing, CSV file I/O (e.g. pd.read_csv)\n",
    "\n",
    "# Input data files are available in the read-only \"../input/\" directory\n",
    "# For example, running this (by clicking run or pressing Shift+Enter) will list all files under the input directory\n",
    "\n",
    "import os\n",
    "for dirname, _, filenames in os.walk('/kaggle/input'):\n",
    "    for filename in filenames:\n",
    "        print(os.path.join(dirname, filename))\n",
    "\n",
    "# You can write up to 20GB to the current directory (/kaggle/working/) that gets preserved as output when you create a version using \"Save & Run All\" \n",
    "# You can also write temporary files to /kaggle/temp/, but they won't be saved outside of the current session"
   ]
  },
  {
   "cell_type": "code",
   "execution_count": 2,
   "id": "f55db305",
   "metadata": {
    "execution": {
     "iopub.execute_input": "2021-10-16T08:42:02.139830Z",
     "iopub.status.busy": "2021-10-16T08:42:02.139151Z",
     "iopub.status.idle": "2021-10-16T08:42:03.088708Z",
     "shell.execute_reply": "2021-10-16T08:42:03.087727Z",
     "shell.execute_reply.started": "2021-10-16T08:33:53.883143Z"
    },
    "papermill": {
     "duration": 0.986986,
     "end_time": "2021-10-16T08:42:03.088860",
     "exception": false,
     "start_time": "2021-10-16T08:42:02.101874",
     "status": "completed"
    },
    "tags": []
   },
   "outputs": [],
   "source": [
    "import matplotlib.pyplot as plt\n",
    "import seaborn as sns\n",
    "sns.set(color_codes = True)\n",
    "%matplotlib inline\n"
   ]
  },
  {
   "cell_type": "markdown",
   "id": "87fcbb0e",
   "metadata": {
    "papermill": {
     "duration": 0.031581,
     "end_time": "2021-10-16T08:42:03.152438",
     "exception": false,
     "start_time": "2021-10-16T08:42:03.120857",
     "status": "completed"
    },
    "tags": []
   },
   "source": [
    "<a id=\"2\"></a>\n",
    "<h1 style='background:#b28bb7; border:0; color:black'><center>LOADING DATA</center></h1>"
   ]
  },
  {
   "cell_type": "code",
   "execution_count": 3,
   "id": "06241463",
   "metadata": {
    "execution": {
     "iopub.execute_input": "2021-10-16T08:42:03.223336Z",
     "iopub.status.busy": "2021-10-16T08:42:03.222569Z",
     "iopub.status.idle": "2021-10-16T08:42:03.977785Z",
     "shell.execute_reply": "2021-10-16T08:42:03.978322Z",
     "shell.execute_reply.started": "2021-10-16T08:33:54.650281Z"
    },
    "papermill": {
     "duration": 0.79321,
     "end_time": "2021-10-16T08:42:03.978495",
     "exception": false,
     "start_time": "2021-10-16T08:42:03.185285",
     "status": "completed"
    },
    "tags": []
   },
   "outputs": [
    {
     "data": {
      "text/html": [
       "<div>\n",
       "<style scoped>\n",
       "    .dataframe tbody tr th:only-of-type {\n",
       "        vertical-align: middle;\n",
       "    }\n",
       "\n",
       "    .dataframe tbody tr th {\n",
       "        vertical-align: top;\n",
       "    }\n",
       "\n",
       "    .dataframe thead th {\n",
       "        text-align: right;\n",
       "    }\n",
       "</style>\n",
       "<table border=\"1\" class=\"dataframe\">\n",
       "  <thead>\n",
       "    <tr style=\"text-align: right;\">\n",
       "      <th></th>\n",
       "      <th>ID</th>\n",
       "      <th>Gender</th>\n",
       "      <th>Age</th>\n",
       "      <th>Region_Code</th>\n",
       "      <th>Occupation</th>\n",
       "      <th>Channel_Code</th>\n",
       "      <th>Vintage</th>\n",
       "      <th>Credit_Product</th>\n",
       "      <th>Avg_Account_Balance</th>\n",
       "      <th>Is_Active</th>\n",
       "      <th>Is_Lead</th>\n",
       "    </tr>\n",
       "  </thead>\n",
       "  <tbody>\n",
       "    <tr>\n",
       "      <th>0</th>\n",
       "      <td>NNVBBKZB</td>\n",
       "      <td>Female</td>\n",
       "      <td>73</td>\n",
       "      <td>RG268</td>\n",
       "      <td>Other</td>\n",
       "      <td>X3</td>\n",
       "      <td>43</td>\n",
       "      <td>No</td>\n",
       "      <td>1045696</td>\n",
       "      <td>No</td>\n",
       "      <td>0</td>\n",
       "    </tr>\n",
       "    <tr>\n",
       "      <th>1</th>\n",
       "      <td>IDD62UNG</td>\n",
       "      <td>Female</td>\n",
       "      <td>30</td>\n",
       "      <td>RG277</td>\n",
       "      <td>Salaried</td>\n",
       "      <td>X1</td>\n",
       "      <td>32</td>\n",
       "      <td>No</td>\n",
       "      <td>581988</td>\n",
       "      <td>No</td>\n",
       "      <td>0</td>\n",
       "    </tr>\n",
       "    <tr>\n",
       "      <th>2</th>\n",
       "      <td>HD3DSEMC</td>\n",
       "      <td>Female</td>\n",
       "      <td>56</td>\n",
       "      <td>RG268</td>\n",
       "      <td>Self_Employed</td>\n",
       "      <td>X3</td>\n",
       "      <td>26</td>\n",
       "      <td>No</td>\n",
       "      <td>1484315</td>\n",
       "      <td>Yes</td>\n",
       "      <td>0</td>\n",
       "    </tr>\n",
       "    <tr>\n",
       "      <th>3</th>\n",
       "      <td>BF3NC7KV</td>\n",
       "      <td>Male</td>\n",
       "      <td>34</td>\n",
       "      <td>RG270</td>\n",
       "      <td>Salaried</td>\n",
       "      <td>X1</td>\n",
       "      <td>19</td>\n",
       "      <td>No</td>\n",
       "      <td>470454</td>\n",
       "      <td>No</td>\n",
       "      <td>0</td>\n",
       "    </tr>\n",
       "    <tr>\n",
       "      <th>4</th>\n",
       "      <td>TEASRWXV</td>\n",
       "      <td>Female</td>\n",
       "      <td>30</td>\n",
       "      <td>RG282</td>\n",
       "      <td>Salaried</td>\n",
       "      <td>X1</td>\n",
       "      <td>33</td>\n",
       "      <td>No</td>\n",
       "      <td>886787</td>\n",
       "      <td>No</td>\n",
       "      <td>0</td>\n",
       "    </tr>\n",
       "  </tbody>\n",
       "</table>\n",
       "</div>"
      ],
      "text/plain": [
       "         ID  Gender  Age Region_Code     Occupation Channel_Code  Vintage  \\\n",
       "0  NNVBBKZB  Female   73       RG268          Other           X3       43   \n",
       "1  IDD62UNG  Female   30       RG277       Salaried           X1       32   \n",
       "2  HD3DSEMC  Female   56       RG268  Self_Employed           X3       26   \n",
       "3  BF3NC7KV    Male   34       RG270       Salaried           X1       19   \n",
       "4  TEASRWXV  Female   30       RG282       Salaried           X1       33   \n",
       "\n",
       "  Credit_Product  Avg_Account_Balance Is_Active  Is_Lead  \n",
       "0             No              1045696        No        0  \n",
       "1             No               581988        No        0  \n",
       "2             No              1484315       Yes        0  \n",
       "3             No               470454        No        0  \n",
       "4             No               886787        No        0  "
      ]
     },
     "execution_count": 3,
     "metadata": {},
     "output_type": "execute_result"
    }
   ],
   "source": [
    "train = pd.read_csv(\"/kaggle/input/credit-card-buyers/train data credit card.csv\")\n",
    "test = pd.read_csv('/kaggle/input/credit-card-buyers/test data credit card.csv')\n",
    "train.head()"
   ]
  },
  {
   "cell_type": "markdown",
   "id": "5f86c68b",
   "metadata": {
    "papermill": {
     "duration": 0.033068,
     "end_time": "2021-10-16T08:42:04.043983",
     "exception": false,
     "start_time": "2021-10-16T08:42:04.010915",
     "status": "completed"
    },
    "tags": []
   },
   "source": [
    "<a id=\"3\"></a>\n",
    "<h1 style='background:#b28bb7; border:0; color:black'><center>DATA VISUALIZATION</center></h1>"
   ]
  },
  {
   "cell_type": "code",
   "execution_count": 4,
   "id": "68bdaa95",
   "metadata": {
    "execution": {
     "iopub.execute_input": "2021-10-16T08:42:04.133298Z",
     "iopub.status.busy": "2021-10-16T08:42:04.117714Z",
     "iopub.status.idle": "2021-10-16T08:42:14.681484Z",
     "shell.execute_reply": "2021-10-16T08:42:14.681957Z",
     "shell.execute_reply.started": "2021-10-16T08:33:55.305534Z"
    },
    "papermill": {
     "duration": 10.604577,
     "end_time": "2021-10-16T08:42:14.682147",
     "exception": false,
     "start_time": "2021-10-16T08:42:04.077570",
     "status": "completed"
    },
    "tags": []
   },
   "outputs": [
    {
     "data": {
      "text/plain": [
       "<AxesSubplot:xlabel='Is_Active', ylabel='Is_Lead'>"
      ]
     },
     "execution_count": 4,
     "metadata": {},
     "output_type": "execute_result"
    },
    {
     "data": {
      "image/png": "[encoded data removed]",
      "text/plain": [
       "<Figure size 1440x720 with 5 Axes>"
      ]
     },
     "metadata": {
      "needs_background": "light"
     },
     "output_type": "display_data"
    }
   ],
   "source": [
    "plt.subplots(figsize=(20,10))\n",
    "\n",
    "\n",
    "\n",
    "plt.subplot(231)\n",
    "sns.barplot(x = 'Gender',y = 'Is_Lead',data = train)\n",
    "\n",
    "plt.subplot(232)\n",
    "sns.barplot(x = 'Gender',y = 'Age',data = train)\n",
    "\n",
    "plt.subplot(233)\n",
    "sns.barplot(x = 'Occupation',y = 'Avg_Account_Balance',data = train)\n",
    "\n",
    "plt.subplot(234)\n",
    "sns.barplot(x = 'Credit_Product',y = 'Is_Lead',data = train)\n",
    "\n",
    "plt.subplot(235)\n",
    "sns.barplot(x = 'Is_Active',y = 'Is_Lead',data = train)"
   ]
  },
  {
   "cell_type": "markdown",
   "id": "683fcaef",
   "metadata": {
    "papermill": {
     "duration": 0.033912,
     "end_time": "2021-10-16T08:42:14.750684",
     "exception": false,
     "start_time": "2021-10-16T08:42:14.716772",
     "status": "completed"
    },
    "tags": []
   },
   "source": [
    "- from above visualization,\n",
    "- from 1st barplot, males are more in count who are purchasing credit card as compared to females.\n",
    "- From 2nd barplot, in the data average age of males are more than females.\n",
    "- from 3rd barplot, According to occupation person who is entrepreneur that person is having more avg account balance.\n",
    "- from 4th barplot, person who is having previsouly any type of loan that person having chance of buying credit card.\n",
    "- final bar clearly metions, there no importance whether person active or not in both the cases person will buy credit card, but data showing credit card had been buying more if person is active."
   ]
  },
  {
   "cell_type": "code",
   "execution_count": 5,
   "id": "b9db0900",
   "metadata": {
    "execution": {
     "iopub.execute_input": "2021-10-16T08:42:15.008385Z",
     "iopub.status.busy": "2021-10-16T08:42:14.825157Z",
     "iopub.status.idle": "2021-10-16T08:42:15.028123Z",
     "shell.execute_reply": "2021-10-16T08:42:15.027551Z",
     "shell.execute_reply.started": "2021-10-16T08:34:05.204962Z"
    },
    "papermill": {
     "duration": 0.243337,
     "end_time": "2021-10-16T08:42:15.028264",
     "exception": false,
     "start_time": "2021-10-16T08:42:14.784927",
     "status": "completed"
    },
    "tags": []
   },
   "outputs": [
    {
     "name": "stdout",
     "output_type": "stream",
     "text": [
      "<class 'pandas.core.frame.DataFrame'>\n",
      "RangeIndex: 245725 entries, 0 to 245724\n",
      "Data columns (total 11 columns):\n",
      " #   Column               Non-Null Count   Dtype \n",
      "---  ------               --------------   ----- \n",
      " 0   ID                   245725 non-null  object\n",
      " 1   Gender               245725 non-null  object\n",
      " 2   Age                  245725 non-null  int64 \n",
      " 3   Region_Code          245725 non-null  object\n",
      " 4   Occupation           245725 non-null  object\n",
      " 5   Channel_Code         245725 non-null  object\n",
      " 6   Vintage              245725 non-null  int64 \n",
      " 7   Credit_Product       216400 non-null  object\n",
      " 8   Avg_Account_Balance  245725 non-null  int64 \n",
      " 9   Is_Active            245725 non-null  object\n",
      " 10  Is_Lead              245725 non-null  int64 \n",
      "dtypes: int64(4), object(7)\n",
      "memory usage: 20.6+ MB\n"
     ]
    }
   ],
   "source": [
    "train.info()"
   ]
  },
  {
   "cell_type": "code",
   "execution_count": 6,
   "id": "85a1a694",
   "metadata": {
    "execution": {
     "iopub.execute_input": "2021-10-16T08:42:15.131056Z",
     "iopub.status.busy": "2021-10-16T08:42:15.130115Z",
     "iopub.status.idle": "2021-10-16T08:42:15.301221Z",
     "shell.execute_reply": "2021-10-16T08:42:15.300639Z",
     "shell.execute_reply.started": "2021-10-16T08:34:05.306220Z"
    },
    "papermill": {
     "duration": 0.237963,
     "end_time": "2021-10-16T08:42:15.301371",
     "exception": false,
     "start_time": "2021-10-16T08:42:15.063408",
     "status": "completed"
    },
    "tags": []
   },
   "outputs": [
    {
     "name": "stdout",
     "output_type": "stream",
     "text": [
      "ID: 0\n",
      "Gender: 0\n",
      "Age: 0\n",
      "Region_Code: 0\n",
      "Occupation: 0\n",
      "Channel_Code: 0\n",
      "Vintage: 0\n",
      "Credit_Product: 29325\n",
      "Avg_Account_Balance: 0\n",
      "Is_Active: 0\n",
      "Is_Lead: 0\n"
     ]
    }
   ],
   "source": [
    "# Check NAN Values\n",
    "for i in train.columns:\n",
    "    print (i+\": \"+str(train[i].isna().sum()))"
   ]
  },
  {
   "cell_type": "code",
   "execution_count": 7,
   "id": "45caeac7",
   "metadata": {
    "execution": {
     "iopub.execute_input": "2021-10-16T08:42:15.402973Z",
     "iopub.status.busy": "2021-10-16T08:42:15.402290Z",
     "iopub.status.idle": "2021-10-16T08:42:15.429650Z",
     "shell.execute_reply": "2021-10-16T08:42:15.428631Z",
     "shell.execute_reply.started": "2021-10-16T08:34:05.403497Z"
    },
    "papermill": {
     "duration": 0.092521,
     "end_time": "2021-10-16T08:42:15.429809",
     "exception": false,
     "start_time": "2021-10-16T08:42:15.337288",
     "status": "completed"
    },
    "tags": []
   },
   "outputs": [],
   "source": [
    "# as you see there is NAN values are present, particularly this is categorical feature in this case you can replace NAN values as missing values.\n",
    "# But as we just analysing, lets check if we drop NAN values then how it will perform.\n",
    "train['Credit_Product'] = train['Credit_Product'].dropna(axis = 0)\n"
   ]
  },
  {
   "cell_type": "code",
   "execution_count": 8,
   "id": "ea8d29ee",
   "metadata": {
    "execution": {
     "iopub.execute_input": "2021-10-16T08:42:15.541143Z",
     "iopub.status.busy": "2021-10-16T08:42:15.540274Z",
     "iopub.status.idle": "2021-10-16T08:42:15.544556Z",
     "shell.execute_reply": "2021-10-16T08:42:15.543945Z",
     "shell.execute_reply.started": "2021-10-16T08:34:05.441711Z"
    },
    "papermill": {
     "duration": 0.079395,
     "end_time": "2021-10-16T08:42:15.544689",
     "exception": false,
     "start_time": "2021-10-16T08:42:15.465294",
     "status": "completed"
    },
    "tags": []
   },
   "outputs": [
    {
     "data": {
      "text/plain": [
       "No     144357\n",
       "Yes     72043\n",
       "Name: Credit_Product, dtype: int64"
      ]
     },
     "execution_count": 8,
     "metadata": {},
     "output_type": "execute_result"
    }
   ],
   "source": [
    "train.Credit_Product.value_counts()"
   ]
  },
  {
   "cell_type": "code",
   "execution_count": 9,
   "id": "094a0996",
   "metadata": {
    "execution": {
     "iopub.execute_input": "2021-10-16T08:42:15.621857Z",
     "iopub.status.busy": "2021-10-16T08:42:15.620765Z",
     "iopub.status.idle": "2021-10-16T08:42:15.797476Z",
     "shell.execute_reply": "2021-10-16T08:42:15.798345Z",
     "shell.execute_reply.started": "2021-10-16T08:34:05.465476Z"
    },
    "papermill": {
     "duration": 0.218457,
     "end_time": "2021-10-16T08:42:15.798534",
     "exception": false,
     "start_time": "2021-10-16T08:42:15.580077",
     "status": "completed"
    },
    "tags": []
   },
   "outputs": [
    {
     "data": {
      "text/plain": [
       "<AxesSubplot:xlabel='Is_Lead', ylabel='count'>"
      ]
     },
     "execution_count": 9,
     "metadata": {},
     "output_type": "execute_result"
    },
    {
     "data": {
      "image/png": "[encoded data removed]",
      "text/plain": [
       "<Figure size 432x288 with 1 Axes>"
      ]
     },
     "metadata": {
      "needs_background": "light"
     },
     "output_type": "display_data"
    }
   ],
   "source": [
    "# Data is imbalanced, let used imbalance library from sklearn, and as you can see person who is buying credit card having less number of data \n",
    "# Either we can perform undersampling or oversampling, in this model we will try with undersampling lets check how it will perform.\n",
    "sns.countplot(x = 'Is_Lead',data = train)"
   ]
  },
  {
   "cell_type": "code",
   "execution_count": 10,
   "id": "4dca8bac",
   "metadata": {
    "execution": {
     "iopub.execute_input": "2021-10-16T08:42:15.876012Z",
     "iopub.status.busy": "2021-10-16T08:42:15.875361Z",
     "iopub.status.idle": "2021-10-16T08:42:15.882868Z",
     "shell.execute_reply": "2021-10-16T08:42:15.883410Z",
     "shell.execute_reply.started": "2021-10-16T08:34:05.626185Z"
    },
    "papermill": {
     "duration": 0.047359,
     "end_time": "2021-10-16T08:42:15.883595",
     "exception": false,
     "start_time": "2021-10-16T08:42:15.836236",
     "status": "completed"
    },
    "tags": []
   },
   "outputs": [
    {
     "data": {
      "text/plain": [
       "0    187437\n",
       "1     58288\n",
       "Name: Is_Lead, dtype: int64"
      ]
     },
     "execution_count": 10,
     "metadata": {},
     "output_type": "execute_result"
    }
   ],
   "source": [
    "train.Is_Lead.value_counts()"
   ]
  },
  {
   "cell_type": "markdown",
   "id": "6f34352e",
   "metadata": {
    "papermill": {
     "duration": 0.037026,
     "end_time": "2021-10-16T08:42:15.957601",
     "exception": false,
     "start_time": "2021-10-16T08:42:15.920575",
     "status": "completed"
    },
    "tags": []
   },
   "source": [
    "<a id=\"4\"></a>\n",
    "<h1 style='background:#b28bb7; border:0; color:black'><center>DATA PREPROCESSING</center></h1>"
   ]
  },
  {
   "cell_type": "code",
   "execution_count": 11,
   "id": "3c58dd19",
   "metadata": {
    "execution": {
     "iopub.execute_input": "2021-10-16T08:42:16.036718Z",
     "iopub.status.busy": "2021-10-16T08:42:16.036016Z",
     "iopub.status.idle": "2021-10-16T08:42:16.407865Z",
     "shell.execute_reply": "2021-10-16T08:42:16.407195Z",
     "shell.execute_reply.started": "2021-10-16T08:34:05.643443Z"
    },
    "papermill": {
     "duration": 0.41312,
     "end_time": "2021-10-16T08:42:16.408006",
     "exception": false,
     "start_time": "2021-10-16T08:42:15.994886",
     "status": "completed"
    },
    "tags": []
   },
   "outputs": [],
   "source": [
    "#There are some categorical features are present, accordingly we can use nominal encoding or else we can use ordinal encoding.\n",
    "# I am using ordinal encoding on occupation and on other feature im going to use nominal encoding.\n",
    "from sklearn.preprocessing import LabelEncoder,MinMaxScaler , StandardScaler\n",
    "label = LabelEncoder()\n",
    "\n",
    "train['Occupation'] = label.fit_transform(train['Occupation'])\n",
    "\n",
    "train['Gender'] = pd.get_dummies(train['Gender'],drop_first = True)\n",
    "train['Is_Active'] = pd.get_dummies(train['Is_Active'],drop_first = True)\n",
    "train['Credit_Product'] = pd.get_dummies(train['Credit_Product'],drop_first = True)\n"
   ]
  },
  {
   "cell_type": "code",
   "execution_count": 12,
   "id": "cc6a9c65",
   "metadata": {
    "execution": {
     "iopub.execute_input": "2021-10-16T08:42:16.489686Z",
     "iopub.status.busy": "2021-10-16T08:42:16.488197Z",
     "iopub.status.idle": "2021-10-16T08:42:16.629415Z",
     "shell.execute_reply": "2021-10-16T08:42:16.628808Z",
     "shell.execute_reply.started": "2021-10-16T08:34:05.920451Z"
    },
    "papermill": {
     "duration": 0.184257,
     "end_time": "2021-10-16T08:42:16.629585",
     "exception": false,
     "start_time": "2021-10-16T08:42:16.445328",
     "status": "completed"
    },
    "tags": []
   },
   "outputs": [
    {
     "data": {
      "text/html": [
       "<div>\n",
       "<style scoped>\n",
       "    .dataframe tbody tr th:only-of-type {\n",
       "        vertical-align: middle;\n",
       "    }\n",
       "\n",
       "    .dataframe tbody tr th {\n",
       "        vertical-align: top;\n",
       "    }\n",
       "\n",
       "    .dataframe thead th {\n",
       "        text-align: right;\n",
       "    }\n",
       "</style>\n",
       "<table border=\"1\" class=\"dataframe\">\n",
       "  <thead>\n",
       "    <tr style=\"text-align: right;\">\n",
       "      <th></th>\n",
       "      <th>Gender</th>\n",
       "      <th>Age</th>\n",
       "      <th>Occupation</th>\n",
       "      <th>Vintage</th>\n",
       "      <th>Credit_Product</th>\n",
       "      <th>Avg_Account_Balance</th>\n",
       "      <th>Is_Active</th>\n",
       "    </tr>\n",
       "  </thead>\n",
       "  <tbody>\n",
       "    <tr>\n",
       "      <th>0</th>\n",
       "      <td>0</td>\n",
       "      <td>73</td>\n",
       "      <td>1</td>\n",
       "      <td>43</td>\n",
       "      <td>0</td>\n",
       "      <td>1045696</td>\n",
       "      <td>0</td>\n",
       "    </tr>\n",
       "    <tr>\n",
       "      <th>1</th>\n",
       "      <td>0</td>\n",
       "      <td>30</td>\n",
       "      <td>2</td>\n",
       "      <td>32</td>\n",
       "      <td>0</td>\n",
       "      <td>581988</td>\n",
       "      <td>0</td>\n",
       "    </tr>\n",
       "    <tr>\n",
       "      <th>2</th>\n",
       "      <td>0</td>\n",
       "      <td>56</td>\n",
       "      <td>3</td>\n",
       "      <td>26</td>\n",
       "      <td>0</td>\n",
       "      <td>1484315</td>\n",
       "      <td>1</td>\n",
       "    </tr>\n",
       "    <tr>\n",
       "      <th>3</th>\n",
       "      <td>1</td>\n",
       "      <td>34</td>\n",
       "      <td>2</td>\n",
       "      <td>19</td>\n",
       "      <td>0</td>\n",
       "      <td>470454</td>\n",
       "      <td>0</td>\n",
       "    </tr>\n",
       "    <tr>\n",
       "      <th>4</th>\n",
       "      <td>0</td>\n",
       "      <td>30</td>\n",
       "      <td>2</td>\n",
       "      <td>33</td>\n",
       "      <td>0</td>\n",
       "      <td>886787</td>\n",
       "      <td>0</td>\n",
       "    </tr>\n",
       "    <tr>\n",
       "      <th>...</th>\n",
       "      <td>...</td>\n",
       "      <td>...</td>\n",
       "      <td>...</td>\n",
       "      <td>...</td>\n",
       "      <td>...</td>\n",
       "      <td>...</td>\n",
       "      <td>...</td>\n",
       "    </tr>\n",
       "    <tr>\n",
       "      <th>245720</th>\n",
       "      <td>1</td>\n",
       "      <td>51</td>\n",
       "      <td>3</td>\n",
       "      <td>109</td>\n",
       "      <td>0</td>\n",
       "      <td>1925586</td>\n",
       "      <td>0</td>\n",
       "    </tr>\n",
       "    <tr>\n",
       "      <th>245721</th>\n",
       "      <td>1</td>\n",
       "      <td>27</td>\n",
       "      <td>2</td>\n",
       "      <td>15</td>\n",
       "      <td>0</td>\n",
       "      <td>862952</td>\n",
       "      <td>1</td>\n",
       "    </tr>\n",
       "    <tr>\n",
       "      <th>245722</th>\n",
       "      <td>0</td>\n",
       "      <td>26</td>\n",
       "      <td>2</td>\n",
       "      <td>13</td>\n",
       "      <td>0</td>\n",
       "      <td>670659</td>\n",
       "      <td>0</td>\n",
       "    </tr>\n",
       "    <tr>\n",
       "      <th>245723</th>\n",
       "      <td>0</td>\n",
       "      <td>28</td>\n",
       "      <td>2</td>\n",
       "      <td>31</td>\n",
       "      <td>0</td>\n",
       "      <td>407504</td>\n",
       "      <td>0</td>\n",
       "    </tr>\n",
       "    <tr>\n",
       "      <th>245724</th>\n",
       "      <td>1</td>\n",
       "      <td>29</td>\n",
       "      <td>2</td>\n",
       "      <td>21</td>\n",
       "      <td>0</td>\n",
       "      <td>1129276</td>\n",
       "      <td>0</td>\n",
       "    </tr>\n",
       "  </tbody>\n",
       "</table>\n",
       "<p>245725 rows × 7 columns</p>\n",
       "</div>"
      ],
      "text/plain": [
       "        Gender  Age  Occupation  Vintage  Credit_Product  Avg_Account_Balance  \\\n",
       "0            0   73           1       43               0              1045696   \n",
       "1            0   30           2       32               0               581988   \n",
       "2            0   56           3       26               0              1484315   \n",
       "3            1   34           2       19               0               470454   \n",
       "4            0   30           2       33               0               886787   \n",
       "...        ...  ...         ...      ...             ...                  ...   \n",
       "245720       1   51           3      109               0              1925586   \n",
       "245721       1   27           2       15               0               862952   \n",
       "245722       0   26           2       13               0               670659   \n",
       "245723       0   28           2       31               0               407504   \n",
       "245724       1   29           2       21               0              1129276   \n",
       "\n",
       "        Is_Active  \n",
       "0               0  \n",
       "1               0  \n",
       "2               1  \n",
       "3               0  \n",
       "4               0  \n",
       "...           ...  \n",
       "245720          0  \n",
       "245721          1  \n",
       "245722          0  \n",
       "245723          0  \n",
       "245724          0  \n",
       "\n",
       "[245725 rows x 7 columns]"
      ]
     },
     "execution_count": 12,
     "metadata": {},
     "output_type": "execute_result"
    }
   ],
   "source": [
    "x = train.drop(['Is_Lead','ID','Region_Code','Channel_Code'],axis = True)\n",
    "y = train.loc[:,['Is_Lead']]\n",
    "x"
   ]
  },
  {
   "cell_type": "code",
   "execution_count": 13,
   "id": "7ce31497",
   "metadata": {
    "execution": {
     "iopub.execute_input": "2021-10-16T08:42:16.711297Z",
     "iopub.status.busy": "2021-10-16T08:42:16.710606Z",
     "iopub.status.idle": "2021-10-16T08:42:16.733344Z",
     "shell.execute_reply": "2021-10-16T08:42:16.732806Z",
     "shell.execute_reply.started": "2021-10-16T08:34:06.063864Z"
    },
    "papermill": {
     "duration": 0.065503,
     "end_time": "2021-10-16T08:42:16.733502",
     "exception": false,
     "start_time": "2021-10-16T08:42:16.667999",
     "status": "completed"
    },
    "tags": []
   },
   "outputs": [],
   "source": [
    "## Get the Fraud and the normal dataset \n",
    "\n",
    "interested= train[train['Is_Lead']==1]\n",
    "\n",
    "not_interested = train[train['Is_Lead']==0]"
   ]
  },
  {
   "cell_type": "code",
   "execution_count": 14,
   "id": "9febc4ad",
   "metadata": {
    "execution": {
     "iopub.execute_input": "2021-10-16T08:42:16.814220Z",
     "iopub.status.busy": "2021-10-16T08:42:16.813498Z",
     "iopub.status.idle": "2021-10-16T08:42:16.816295Z",
     "shell.execute_reply": "2021-10-16T08:42:16.816856Z",
     "shell.execute_reply.started": "2021-10-16T08:34:06.089298Z"
    },
    "papermill": {
     "duration": 0.045955,
     "end_time": "2021-10-16T08:42:16.817024",
     "exception": false,
     "start_time": "2021-10-16T08:42:16.771069",
     "status": "completed"
    },
    "tags": []
   },
   "outputs": [
    {
     "name": "stdout",
     "output_type": "stream",
     "text": [
      "(58288, 11) (187437, 11)\n"
     ]
    }
   ],
   "source": [
    "print(interested.shape,not_interested.shape)"
   ]
  },
  {
   "cell_type": "code",
   "execution_count": 15,
   "id": "a0800508",
   "metadata": {
    "execution": {
     "iopub.execute_input": "2021-10-16T08:42:16.898412Z",
     "iopub.status.busy": "2021-10-16T08:42:16.897566Z",
     "iopub.status.idle": "2021-10-16T08:42:18.664564Z",
     "shell.execute_reply": "2021-10-16T08:42:18.665044Z",
     "shell.execute_reply.started": "2021-10-16T08:34:06.095362Z"
    },
    "papermill": {
     "duration": 1.810561,
     "end_time": "2021-10-16T08:42:18.665252",
     "exception": false,
     "start_time": "2021-10-16T08:42:16.854691",
     "status": "completed"
    },
    "tags": []
   },
   "outputs": [],
   "source": [
    "from imblearn.under_sampling import NearMiss\n",
    "\n",
    "# Implementing Undersampling for Handling Imbalanced \n",
    "nm = NearMiss()\n",
    "X_res,y_res=nm.fit_resample(x,y)\n"
   ]
  },
  {
   "cell_type": "code",
   "execution_count": 16,
   "id": "596cb34c",
   "metadata": {
    "execution": {
     "iopub.execute_input": "2021-10-16T08:42:18.756045Z",
     "iopub.status.busy": "2021-10-16T08:42:18.750346Z",
     "iopub.status.idle": "2021-10-16T08:42:18.759720Z",
     "shell.execute_reply": "2021-10-16T08:42:18.759080Z",
     "shell.execute_reply.started": "2021-10-16T08:34:07.675793Z"
    },
    "papermill": {
     "duration": 0.056964,
     "end_time": "2021-10-16T08:42:18.759853",
     "exception": false,
     "start_time": "2021-10-16T08:42:18.702889",
     "status": "completed"
    },
    "tags": []
   },
   "outputs": [
    {
     "data": {
      "text/html": [
       "<div>\n",
       "<style scoped>\n",
       "    .dataframe tbody tr th:only-of-type {\n",
       "        vertical-align: middle;\n",
       "    }\n",
       "\n",
       "    .dataframe tbody tr th {\n",
       "        vertical-align: top;\n",
       "    }\n",
       "\n",
       "    .dataframe thead th {\n",
       "        text-align: right;\n",
       "    }\n",
       "</style>\n",
       "<table border=\"1\" class=\"dataframe\">\n",
       "  <thead>\n",
       "    <tr style=\"text-align: right;\">\n",
       "      <th></th>\n",
       "      <th>Gender</th>\n",
       "      <th>Age</th>\n",
       "      <th>Occupation</th>\n",
       "      <th>Vintage</th>\n",
       "      <th>Credit_Product</th>\n",
       "      <th>Avg_Account_Balance</th>\n",
       "      <th>Is_Active</th>\n",
       "    </tr>\n",
       "  </thead>\n",
       "  <tbody>\n",
       "    <tr>\n",
       "      <th>0</th>\n",
       "      <td>1</td>\n",
       "      <td>49</td>\n",
       "      <td>3</td>\n",
       "      <td>99</td>\n",
       "      <td>0</td>\n",
       "      <td>4022185</td>\n",
       "      <td>1</td>\n",
       "    </tr>\n",
       "    <tr>\n",
       "      <th>1</th>\n",
       "      <td>0</td>\n",
       "      <td>30</td>\n",
       "      <td>2</td>\n",
       "      <td>31</td>\n",
       "      <td>0</td>\n",
       "      <td>2521592</td>\n",
       "      <td>0</td>\n",
       "    </tr>\n",
       "    <tr>\n",
       "      <th>2</th>\n",
       "      <td>0</td>\n",
       "      <td>30</td>\n",
       "      <td>2</td>\n",
       "      <td>31</td>\n",
       "      <td>0</td>\n",
       "      <td>2521592</td>\n",
       "      <td>0</td>\n",
       "    </tr>\n",
       "    <tr>\n",
       "      <th>3</th>\n",
       "      <td>0</td>\n",
       "      <td>30</td>\n",
       "      <td>2</td>\n",
       "      <td>31</td>\n",
       "      <td>0</td>\n",
       "      <td>2521592</td>\n",
       "      <td>0</td>\n",
       "    </tr>\n",
       "    <tr>\n",
       "      <th>4</th>\n",
       "      <td>0</td>\n",
       "      <td>49</td>\n",
       "      <td>3</td>\n",
       "      <td>93</td>\n",
       "      <td>0</td>\n",
       "      <td>2433144</td>\n",
       "      <td>0</td>\n",
       "    </tr>\n",
       "    <tr>\n",
       "      <th>...</th>\n",
       "      <td>...</td>\n",
       "      <td>...</td>\n",
       "      <td>...</td>\n",
       "      <td>...</td>\n",
       "      <td>...</td>\n",
       "      <td>...</td>\n",
       "      <td>...</td>\n",
       "    </tr>\n",
       "    <tr>\n",
       "      <th>116571</th>\n",
       "      <td>1</td>\n",
       "      <td>43</td>\n",
       "      <td>2</td>\n",
       "      <td>50</td>\n",
       "      <td>0</td>\n",
       "      <td>551203</td>\n",
       "      <td>1</td>\n",
       "    </tr>\n",
       "    <tr>\n",
       "      <th>116572</th>\n",
       "      <td>1</td>\n",
       "      <td>53</td>\n",
       "      <td>1</td>\n",
       "      <td>19</td>\n",
       "      <td>0</td>\n",
       "      <td>1141825</td>\n",
       "      <td>1</td>\n",
       "    </tr>\n",
       "    <tr>\n",
       "      <th>116573</th>\n",
       "      <td>1</td>\n",
       "      <td>36</td>\n",
       "      <td>3</td>\n",
       "      <td>15</td>\n",
       "      <td>1</td>\n",
       "      <td>608110</td>\n",
       "      <td>1</td>\n",
       "    </tr>\n",
       "    <tr>\n",
       "      <th>116574</th>\n",
       "      <td>0</td>\n",
       "      <td>41</td>\n",
       "      <td>3</td>\n",
       "      <td>13</td>\n",
       "      <td>1</td>\n",
       "      <td>898170</td>\n",
       "      <td>1</td>\n",
       "    </tr>\n",
       "    <tr>\n",
       "      <th>116575</th>\n",
       "      <td>0</td>\n",
       "      <td>46</td>\n",
       "      <td>3</td>\n",
       "      <td>19</td>\n",
       "      <td>0</td>\n",
       "      <td>993195</td>\n",
       "      <td>0</td>\n",
       "    </tr>\n",
       "  </tbody>\n",
       "</table>\n",
       "<p>116576 rows × 7 columns</p>\n",
       "</div>"
      ],
      "text/plain": [
       "        Gender  Age  Occupation  Vintage  Credit_Product  Avg_Account_Balance  \\\n",
       "0            1   49           3       99               0              4022185   \n",
       "1            0   30           2       31               0              2521592   \n",
       "2            0   30           2       31               0              2521592   \n",
       "3            0   30           2       31               0              2521592   \n",
       "4            0   49           3       93               0              2433144   \n",
       "...        ...  ...         ...      ...             ...                  ...   \n",
       "116571       1   43           2       50               0               551203   \n",
       "116572       1   53           1       19               0              1141825   \n",
       "116573       1   36           3       15               1               608110   \n",
       "116574       0   41           3       13               1               898170   \n",
       "116575       0   46           3       19               0               993195   \n",
       "\n",
       "        Is_Active  \n",
       "0               1  \n",
       "1               0  \n",
       "2               0  \n",
       "3               0  \n",
       "4               0  \n",
       "...           ...  \n",
       "116571          1  \n",
       "116572          1  \n",
       "116573          1  \n",
       "116574          1  \n",
       "116575          0  \n",
       "\n",
       "[116576 rows x 7 columns]"
      ]
     },
     "execution_count": 16,
     "metadata": {},
     "output_type": "execute_result"
    }
   ],
   "source": [
    "X_res"
   ]
  },
  {
   "cell_type": "code",
   "execution_count": 17,
   "id": "faeeeb7f",
   "metadata": {
    "execution": {
     "iopub.execute_input": "2021-10-16T08:42:18.846126Z",
     "iopub.status.busy": "2021-10-16T08:42:18.845435Z",
     "iopub.status.idle": "2021-10-16T08:42:18.853173Z",
     "shell.execute_reply": "2021-10-16T08:42:18.852618Z",
     "shell.execute_reply.started": "2021-10-16T08:40:17.713491Z"
    },
    "papermill": {
     "duration": 0.053251,
     "end_time": "2021-10-16T08:42:18.853313",
     "exception": false,
     "start_time": "2021-10-16T08:42:18.800062",
     "status": "completed"
    },
    "tags": []
   },
   "outputs": [
    {
     "data": {
      "text/plain": [
       "Is_Lead\n",
       "0          58288\n",
       "1          58288\n",
       "dtype: int64"
      ]
     },
     "execution_count": 17,
     "metadata": {},
     "output_type": "execute_result"
    }
   ],
   "source": [
    "y_res.value_counts()"
   ]
  },
  {
   "cell_type": "code",
   "execution_count": 18,
   "id": "dab6670f",
   "metadata": {
    "execution": {
     "iopub.execute_input": "2021-10-16T08:42:18.935387Z",
     "iopub.status.busy": "2021-10-16T08:42:18.934740Z",
     "iopub.status.idle": "2021-10-16T08:42:18.945531Z",
     "shell.execute_reply": "2021-10-16T08:42:18.945972Z",
     "shell.execute_reply.started": "2021-10-16T08:34:07.704901Z"
    },
    "papermill": {
     "duration": 0.054026,
     "end_time": "2021-10-16T08:42:18.946160",
     "exception": false,
     "start_time": "2021-10-16T08:42:18.892134",
     "status": "completed"
    },
    "tags": []
   },
   "outputs": [
    {
     "data": {
      "text/plain": [
       "((116576, 7), (116576, 1))"
      ]
     },
     "execution_count": 18,
     "metadata": {},
     "output_type": "execute_result"
    }
   ],
   "source": [
    "final_data = pd.merge(X_res,y_res,left_index = True,right_index = True)\n",
    "X_res.shape,y_res.shape"
   ]
  },
  {
   "cell_type": "code",
   "execution_count": 19,
   "id": "d04c3976",
   "metadata": {
    "execution": {
     "iopub.execute_input": "2021-10-16T08:42:19.030362Z",
     "iopub.status.busy": "2021-10-16T08:42:19.029647Z",
     "iopub.status.idle": "2021-10-16T08:42:19.227686Z",
     "shell.execute_reply": "2021-10-16T08:42:19.228157Z",
     "shell.execute_reply.started": "2021-10-16T08:34:07.720798Z"
    },
    "papermill": {
     "duration": 0.242996,
     "end_time": "2021-10-16T08:42:19.228331",
     "exception": false,
     "start_time": "2021-10-16T08:42:18.985335",
     "status": "completed"
    },
    "tags": []
   },
   "outputs": [
    {
     "data": {
      "text/plain": [
       "<AxesSubplot:ylabel='Avg_Account_Balance'>"
      ]
     },
     "execution_count": 19,
     "metadata": {},
     "output_type": "execute_result"
    },
    {
     "data": {
      "image/png": "[encoded data removed]",
      "text/plain": [
       "<Figure size 1440x576 with 1 Axes>"
      ]
     },
     "metadata": {
      "needs_background": "light"
     },
     "output_type": "display_data"
    }
   ],
   "source": [
    "# most of the variable is normal, means it does not having outliers but  as checked one parameter is having most of the outliers. either you can remove outliers and perform separate algorithm for outliers.\n",
    "plt.figure(figsize = (20,8))\n",
    "sns.boxplot(y='Avg_Account_Balance',data = final_data)"
   ]
  },
  {
   "cell_type": "code",
   "execution_count": 20,
   "id": "163a2b4a",
   "metadata": {
    "execution": {
     "iopub.execute_input": "2021-10-16T08:42:19.324552Z",
     "iopub.status.busy": "2021-10-16T08:42:19.323906Z",
     "iopub.status.idle": "2021-10-16T08:42:19.326843Z",
     "shell.execute_reply": "2021-10-16T08:42:19.327342Z",
     "shell.execute_reply.started": "2021-10-16T08:34:07.906142Z"
    },
    "papermill": {
     "duration": 0.058151,
     "end_time": "2021-10-16T08:42:19.327510",
     "exception": false,
     "start_time": "2021-10-16T08:42:19.269359",
     "status": "completed"
    },
    "tags": []
   },
   "outputs": [
    {
     "data": {
      "text/html": [
       "<div>\n",
       "<style scoped>\n",
       "    .dataframe tbody tr th:only-of-type {\n",
       "        vertical-align: middle;\n",
       "    }\n",
       "\n",
       "    .dataframe tbody tr th {\n",
       "        vertical-align: top;\n",
       "    }\n",
       "\n",
       "    .dataframe thead th {\n",
       "        text-align: right;\n",
       "    }\n",
       "</style>\n",
       "<table border=\"1\" class=\"dataframe\">\n",
       "  <thead>\n",
       "    <tr style=\"text-align: right;\">\n",
       "      <th></th>\n",
       "      <th>Gender</th>\n",
       "      <th>Age</th>\n",
       "      <th>Occupation</th>\n",
       "      <th>Vintage</th>\n",
       "      <th>Credit_Product</th>\n",
       "      <th>Avg_Account_Balance</th>\n",
       "      <th>Is_Active</th>\n",
       "      <th>Is_Lead</th>\n",
       "    </tr>\n",
       "  </thead>\n",
       "  <tbody>\n",
       "    <tr>\n",
       "      <th>0</th>\n",
       "      <td>1</td>\n",
       "      <td>49</td>\n",
       "      <td>3</td>\n",
       "      <td>99</td>\n",
       "      <td>0</td>\n",
       "      <td>4022185</td>\n",
       "      <td>1</td>\n",
       "      <td>0</td>\n",
       "    </tr>\n",
       "    <tr>\n",
       "      <th>1</th>\n",
       "      <td>0</td>\n",
       "      <td>30</td>\n",
       "      <td>2</td>\n",
       "      <td>31</td>\n",
       "      <td>0</td>\n",
       "      <td>2521592</td>\n",
       "      <td>0</td>\n",
       "      <td>0</td>\n",
       "    </tr>\n",
       "    <tr>\n",
       "      <th>2</th>\n",
       "      <td>0</td>\n",
       "      <td>30</td>\n",
       "      <td>2</td>\n",
       "      <td>31</td>\n",
       "      <td>0</td>\n",
       "      <td>2521592</td>\n",
       "      <td>0</td>\n",
       "      <td>0</td>\n",
       "    </tr>\n",
       "    <tr>\n",
       "      <th>3</th>\n",
       "      <td>0</td>\n",
       "      <td>30</td>\n",
       "      <td>2</td>\n",
       "      <td>31</td>\n",
       "      <td>0</td>\n",
       "      <td>2521592</td>\n",
       "      <td>0</td>\n",
       "      <td>0</td>\n",
       "    </tr>\n",
       "    <tr>\n",
       "      <th>4</th>\n",
       "      <td>0</td>\n",
       "      <td>49</td>\n",
       "      <td>3</td>\n",
       "      <td>93</td>\n",
       "      <td>0</td>\n",
       "      <td>2433144</td>\n",
       "      <td>0</td>\n",
       "      <td>0</td>\n",
       "    </tr>\n",
       "    <tr>\n",
       "      <th>...</th>\n",
       "      <td>...</td>\n",
       "      <td>...</td>\n",
       "      <td>...</td>\n",
       "      <td>...</td>\n",
       "      <td>...</td>\n",
       "      <td>...</td>\n",
       "      <td>...</td>\n",
       "      <td>...</td>\n",
       "    </tr>\n",
       "    <tr>\n",
       "      <th>116571</th>\n",
       "      <td>1</td>\n",
       "      <td>43</td>\n",
       "      <td>2</td>\n",
       "      <td>50</td>\n",
       "      <td>0</td>\n",
       "      <td>551203</td>\n",
       "      <td>1</td>\n",
       "      <td>1</td>\n",
       "    </tr>\n",
       "    <tr>\n",
       "      <th>116572</th>\n",
       "      <td>1</td>\n",
       "      <td>53</td>\n",
       "      <td>1</td>\n",
       "      <td>19</td>\n",
       "      <td>0</td>\n",
       "      <td>1141825</td>\n",
       "      <td>1</td>\n",
       "      <td>1</td>\n",
       "    </tr>\n",
       "    <tr>\n",
       "      <th>116573</th>\n",
       "      <td>1</td>\n",
       "      <td>36</td>\n",
       "      <td>3</td>\n",
       "      <td>15</td>\n",
       "      <td>1</td>\n",
       "      <td>608110</td>\n",
       "      <td>1</td>\n",
       "      <td>1</td>\n",
       "    </tr>\n",
       "    <tr>\n",
       "      <th>116574</th>\n",
       "      <td>0</td>\n",
       "      <td>41</td>\n",
       "      <td>3</td>\n",
       "      <td>13</td>\n",
       "      <td>1</td>\n",
       "      <td>898170</td>\n",
       "      <td>1</td>\n",
       "      <td>1</td>\n",
       "    </tr>\n",
       "    <tr>\n",
       "      <th>116575</th>\n",
       "      <td>0</td>\n",
       "      <td>46</td>\n",
       "      <td>3</td>\n",
       "      <td>19</td>\n",
       "      <td>0</td>\n",
       "      <td>993195</td>\n",
       "      <td>0</td>\n",
       "      <td>1</td>\n",
       "    </tr>\n",
       "  </tbody>\n",
       "</table>\n",
       "<p>116576 rows × 8 columns</p>\n",
       "</div>"
      ],
      "text/plain": [
       "        Gender  Age  Occupation  Vintage  Credit_Product  Avg_Account_Balance  \\\n",
       "0            1   49           3       99               0              4022185   \n",
       "1            0   30           2       31               0              2521592   \n",
       "2            0   30           2       31               0              2521592   \n",
       "3            0   30           2       31               0              2521592   \n",
       "4            0   49           3       93               0              2433144   \n",
       "...        ...  ...         ...      ...             ...                  ...   \n",
       "116571       1   43           2       50               0               551203   \n",
       "116572       1   53           1       19               0              1141825   \n",
       "116573       1   36           3       15               1               608110   \n",
       "116574       0   41           3       13               1               898170   \n",
       "116575       0   46           3       19               0               993195   \n",
       "\n",
       "        Is_Active  Is_Lead  \n",
       "0               1        0  \n",
       "1               0        0  \n",
       "2               0        0  \n",
       "3               0        0  \n",
       "4               0        0  \n",
       "...           ...      ...  \n",
       "116571          1        1  \n",
       "116572          1        1  \n",
       "116573          1        1  \n",
       "116574          1        1  \n",
       "116575          0        1  \n",
       "\n",
       "[116576 rows x 8 columns]"
      ]
     },
     "execution_count": 20,
     "metadata": {},
     "output_type": "execute_result"
    }
   ],
   "source": [
    "final_data"
   ]
  },
  {
   "cell_type": "code",
   "execution_count": 21,
   "id": "f0036cd8",
   "metadata": {
    "execution": {
     "iopub.execute_input": "2021-10-16T08:42:19.412344Z",
     "iopub.status.busy": "2021-10-16T08:42:19.411718Z",
     "iopub.status.idle": "2021-10-16T08:42:19.429621Z",
     "shell.execute_reply": "2021-10-16T08:42:19.430218Z",
     "shell.execute_reply.started": "2021-10-16T08:34:07.922818Z"
    },
    "papermill": {
     "duration": 0.061855,
     "end_time": "2021-10-16T08:42:19.430389",
     "exception": false,
     "start_time": "2021-10-16T08:42:19.368534",
     "status": "completed"
    },
    "tags": []
   },
   "outputs": [
    {
     "name": "stdout",
     "output_type": "stream",
     "text": [
      "data loss percentage 6.595697227559703%\n"
     ]
    }
   ],
   "source": [
    "Q1 = final_data['Avg_Account_Balance'].quantile(0.25)\n",
    "Q3 = final_data['Avg_Account_Balance'].quantile(0.75)\n",
    "IQR = Q3 - Q1\n",
    "\n",
    "filter = (final_data['Avg_Account_Balance'] >= Q1 - 1.5 * IQR) & (final_data['Avg_Account_Balance']<= Q3 + 1.5 *IQR)\n",
    "train2 = final_data.loc[filter]  \n",
    "print(\"data loss percentage {}%\".format(((len(final_data) - len(train2))/len(final_data))*100))"
   ]
  },
  {
   "cell_type": "code",
   "execution_count": 22,
   "id": "c4960d66",
   "metadata": {
    "execution": {
     "iopub.execute_input": "2021-10-16T08:42:19.516036Z",
     "iopub.status.busy": "2021-10-16T08:42:19.515442Z",
     "iopub.status.idle": "2021-10-16T08:42:20.225670Z",
     "shell.execute_reply": "2021-10-16T08:42:20.225149Z",
     "shell.execute_reply.started": "2021-10-16T08:34:07.942653Z"
    },
    "papermill": {
     "duration": 0.754168,
     "end_time": "2021-10-16T08:42:20.225815",
     "exception": false,
     "start_time": "2021-10-16T08:42:19.471647",
     "status": "completed"
    },
    "tags": []
   },
   "outputs": [
    {
     "data": {
      "text/plain": [
       "<AxesSubplot:>"
      ]
     },
     "execution_count": 22,
     "metadata": {},
     "output_type": "execute_result"
    },
    {
     "data": {
      "image/png": "[encoded data removed]",
      "text/plain": [
       "<Figure size 1440x576 with 2 Axes>"
      ]
     },
     "metadata": {
      "needs_background": "light"
     },
     "output_type": "display_data"
    }
   ],
   "source": [
    "# Check data is correlated with each other, if features are correlated then you can drop that feature, but check wether that feature are using for same purpose.\n",
    "# from below graph,there is paramter which is showing correlation more than 0.5 that means these are correlated  but as you can see one feature is age and another one is vintage and both is used for differnet purpose.\n",
    "correlation = train2.corr()\n",
    "plt.figure(figsize = (20,8))\n",
    "sns.heatmap(correlation,annot = True,cmap = 'rocket')"
   ]
  },
  {
   "cell_type": "code",
   "execution_count": 23,
   "id": "d619831e",
   "metadata": {
    "execution": {
     "iopub.execute_input": "2021-10-16T08:42:20.316592Z",
     "iopub.status.busy": "2021-10-16T08:42:20.315937Z",
     "iopub.status.idle": "2021-10-16T08:42:20.325913Z",
     "shell.execute_reply": "2021-10-16T08:42:20.326481Z",
     "shell.execute_reply.started": "2021-10-16T08:34:08.572186Z"
    },
    "papermill": {
     "duration": 0.057216,
     "end_time": "2021-10-16T08:42:20.326644",
     "exception": false,
     "start_time": "2021-10-16T08:42:20.269428",
     "status": "completed"
    },
    "tags": []
   },
   "outputs": [
    {
     "data": {
      "text/html": [
       "<div>\n",
       "<style scoped>\n",
       "    .dataframe tbody tr th:only-of-type {\n",
       "        vertical-align: middle;\n",
       "    }\n",
       "\n",
       "    .dataframe tbody tr th {\n",
       "        vertical-align: top;\n",
       "    }\n",
       "\n",
       "    .dataframe thead th {\n",
       "        text-align: right;\n",
       "    }\n",
       "</style>\n",
       "<table border=\"1\" class=\"dataframe\">\n",
       "  <thead>\n",
       "    <tr style=\"text-align: right;\">\n",
       "      <th></th>\n",
       "      <th>Gender</th>\n",
       "      <th>Age</th>\n",
       "      <th>Occupation</th>\n",
       "      <th>Vintage</th>\n",
       "      <th>Credit_Product</th>\n",
       "      <th>Avg_Account_Balance</th>\n",
       "      <th>Is_Active</th>\n",
       "      <th>Is_Lead</th>\n",
       "    </tr>\n",
       "  </thead>\n",
       "  <tbody>\n",
       "    <tr>\n",
       "      <th>19</th>\n",
       "      <td>0</td>\n",
       "      <td>46</td>\n",
       "      <td>3</td>\n",
       "      <td>75</td>\n",
       "      <td>0</td>\n",
       "      <td>1611273</td>\n",
       "      <td>1</td>\n",
       "      <td>0</td>\n",
       "    </tr>\n",
       "    <tr>\n",
       "      <th>29</th>\n",
       "      <td>1</td>\n",
       "      <td>44</td>\n",
       "      <td>3</td>\n",
       "      <td>79</td>\n",
       "      <td>1</td>\n",
       "      <td>1611273</td>\n",
       "      <td>0</td>\n",
       "      <td>0</td>\n",
       "    </tr>\n",
       "    <tr>\n",
       "      <th>30</th>\n",
       "      <td>0</td>\n",
       "      <td>46</td>\n",
       "      <td>3</td>\n",
       "      <td>97</td>\n",
       "      <td>1</td>\n",
       "      <td>1248776</td>\n",
       "      <td>1</td>\n",
       "      <td>0</td>\n",
       "    </tr>\n",
       "    <tr>\n",
       "      <th>32</th>\n",
       "      <td>0</td>\n",
       "      <td>55</td>\n",
       "      <td>3</td>\n",
       "      <td>105</td>\n",
       "      <td>1</td>\n",
       "      <td>1940013</td>\n",
       "      <td>1</td>\n",
       "      <td>0</td>\n",
       "    </tr>\n",
       "    <tr>\n",
       "      <th>33</th>\n",
       "      <td>1</td>\n",
       "      <td>47</td>\n",
       "      <td>1</td>\n",
       "      <td>91</td>\n",
       "      <td>0</td>\n",
       "      <td>1248776</td>\n",
       "      <td>0</td>\n",
       "      <td>0</td>\n",
       "    </tr>\n",
       "  </tbody>\n",
       "</table>\n",
       "</div>"
      ],
      "text/plain": [
       "    Gender  Age  Occupation  Vintage  Credit_Product  Avg_Account_Balance  \\\n",
       "19       0   46           3       75               0              1611273   \n",
       "29       1   44           3       79               1              1611273   \n",
       "30       0   46           3       97               1              1248776   \n",
       "32       0   55           3      105               1              1940013   \n",
       "33       1   47           1       91               0              1248776   \n",
       "\n",
       "    Is_Active  Is_Lead  \n",
       "19          1        0  \n",
       "29          0        0  \n",
       "30          1        0  \n",
       "32          1        0  \n",
       "33          0        0  "
      ]
     },
     "execution_count": 23,
     "metadata": {},
     "output_type": "execute_result"
    }
   ],
   "source": [
    "train2.head()"
   ]
  },
  {
   "cell_type": "code",
   "execution_count": 24,
   "id": "17ee79b9",
   "metadata": {
    "execution": {
     "iopub.execute_input": "2021-10-16T08:42:20.418236Z",
     "iopub.status.busy": "2021-10-16T08:42:20.417576Z",
     "iopub.status.idle": "2021-10-16T08:42:20.422707Z",
     "shell.execute_reply": "2021-10-16T08:42:20.423245Z",
     "shell.execute_reply.started": "2021-10-16T08:34:08.584312Z"
    },
    "papermill": {
     "duration": 0.052864,
     "end_time": "2021-10-16T08:42:20.423427",
     "exception": false,
     "start_time": "2021-10-16T08:42:20.370563",
     "status": "completed"
    },
    "tags": []
   },
   "outputs": [],
   "source": [
    "# Assigning dependent and independent values.\n",
    "x = train2.iloc[:,:-1]\n",
    "\n",
    "y = train2.iloc[:,-1]"
   ]
  },
  {
   "cell_type": "code",
   "execution_count": 25,
   "id": "261605cf",
   "metadata": {
    "execution": {
     "iopub.execute_input": "2021-10-16T08:42:20.518778Z",
     "iopub.status.busy": "2021-10-16T08:42:20.518071Z",
     "iopub.status.idle": "2021-10-16T08:42:20.542446Z",
     "shell.execute_reply": "2021-10-16T08:42:20.541888Z",
     "shell.execute_reply.started": "2021-10-16T08:34:08.596089Z"
    },
    "papermill": {
     "duration": 0.074846,
     "end_time": "2021-10-16T08:42:20.542599",
     "exception": false,
     "start_time": "2021-10-16T08:42:20.467753",
     "status": "completed"
    },
    "tags": []
   },
   "outputs": [],
   "source": [
    "from sklearn.preprocessing import StandardScaler\n",
    "\n",
    "\n",
    "std = StandardScaler()\n",
    "\n",
    "x_std = std.fit_transform(x)"
   ]
  },
  {
   "cell_type": "markdown",
   "id": "e4156001",
   "metadata": {
    "papermill": {
     "duration": 0.044586,
     "end_time": "2021-10-16T08:42:20.637188",
     "exception": false,
     "start_time": "2021-10-16T08:42:20.592602",
     "status": "completed"
    },
    "tags": []
   },
   "source": [
    "<a id=\"5\"></a>\n",
    "<h1 style='background:#b28bb7; border:0; color:black'><center>TRAIN-TEST DATA</center></h1>"
   ]
  },
  {
   "cell_type": "code",
   "execution_count": 26,
   "id": "f878d24d",
   "metadata": {
    "execution": {
     "iopub.execute_input": "2021-10-16T08:42:20.728847Z",
     "iopub.status.busy": "2021-10-16T08:42:20.728231Z",
     "iopub.status.idle": "2021-10-16T08:42:20.748144Z",
     "shell.execute_reply": "2021-10-16T08:42:20.748672Z",
     "shell.execute_reply.started": "2021-10-16T08:34:08.626576Z"
    },
    "papermill": {
     "duration": 0.067204,
     "end_time": "2021-10-16T08:42:20.748853",
     "exception": false,
     "start_time": "2021-10-16T08:42:20.681649",
     "status": "completed"
    },
    "tags": []
   },
   "outputs": [
    {
     "name": "stdout",
     "output_type": "stream",
     "text": [
      "Shape of Training Xs:(87109, 7)\n",
      "shape of Test:(21778, 7)\n"
     ]
    }
   ],
   "source": [
    "from sklearn.model_selection import train_test_split\n",
    "\n",
    "#Split data into Train and test format\n",
    "x_train,x_test,y_train,y_test = train_test_split(x_std,y,test_size = 0.20,random_state =42)\n",
    "\n",
    "print('Shape of Training Xs:{}'.format(x_train.shape))\n",
    "print('shape of Test:{}'.format(x_test.shape))"
   ]
  },
  {
   "cell_type": "code",
   "execution_count": 27,
   "id": "2ab1b733",
   "metadata": {
    "execution": {
     "iopub.execute_input": "2021-10-16T08:42:20.841669Z",
     "iopub.status.busy": "2021-10-16T08:42:20.840956Z",
     "iopub.status.idle": "2021-10-16T08:42:20.844323Z",
     "shell.execute_reply": "2021-10-16T08:42:20.844825Z",
     "shell.execute_reply.started": "2021-10-16T08:34:08.647985Z"
    },
    "papermill": {
     "duration": 0.051263,
     "end_time": "2021-10-16T08:42:20.844992",
     "exception": false,
     "start_time": "2021-10-16T08:42:20.793729",
     "status": "completed"
    },
    "tags": []
   },
   "outputs": [],
   "source": [
    "#y_train = np.array(y_train).astype(int)\n",
    "#y_test= np.array(y_test).astype(int)"
   ]
  },
  {
   "cell_type": "markdown",
   "id": "02d4e74a",
   "metadata": {
    "papermill": {
     "duration": 0.044323,
     "end_time": "2021-10-16T08:42:20.934060",
     "exception": false,
     "start_time": "2021-10-16T08:42:20.889737",
     "status": "completed"
    },
    "tags": []
   },
   "source": [
    "<a id=\"6\"></a>\n",
    "<h1 style='background:#b28bb7; border:0; color:black'><center>MODEL BUILDING</center></h1>"
   ]
  },
  {
   "cell_type": "code",
   "execution_count": 28,
   "id": "424d8b5b",
   "metadata": {
    "execution": {
     "iopub.execute_input": "2021-10-16T08:42:21.027330Z",
     "iopub.status.busy": "2021-10-16T08:42:21.026688Z",
     "iopub.status.idle": "2021-10-16T08:48:26.242385Z",
     "shell.execute_reply": "2021-10-16T08:48:26.242900Z",
     "shell.execute_reply.started": "2021-10-16T08:34:08.652699Z"
    },
    "papermill": {
     "duration": 365.263761,
     "end_time": "2021-10-16T08:48:26.243075",
     "exception": false,
     "start_time": "2021-10-16T08:42:20.979314",
     "status": "completed"
    },
    "tags": []
   },
   "outputs": [
    {
     "name": "stdout",
     "output_type": "stream",
     "text": [
      "0.7168702360179998\n"
     ]
    }
   ],
   "source": [
    "from sklearn import svm\n",
    "clf = svm.SVC()\n",
    "clf.fit(x_train,y_train)\n",
    "y_predicted = clf.predict(x_test)\n",
    "score = clf.score(x_test,y_test)\n",
    "print(score)"
   ]
  },
  {
   "cell_type": "code",
   "execution_count": 29,
   "id": "c283ca19",
   "metadata": {
    "execution": {
     "iopub.execute_input": "2021-10-16T08:48:26.336992Z",
     "iopub.status.busy": "2021-10-16T08:48:26.336343Z",
     "iopub.status.idle": "2021-10-16T08:48:26.375433Z",
     "shell.execute_reply": "2021-10-16T08:48:26.374919Z",
     "shell.execute_reply.started": "2021-10-16T08:40:05.085900Z"
    },
    "papermill": {
     "duration": 0.088384,
     "end_time": "2021-10-16T08:48:26.375570",
     "exception": false,
     "start_time": "2021-10-16T08:48:26.287186",
     "status": "completed"
    },
    "tags": []
   },
   "outputs": [
    {
     "data": {
      "text/plain": [
       "array([[8667, 2971],\n",
       "       [3195, 6945]])"
      ]
     },
     "execution_count": 29,
     "metadata": {},
     "output_type": "execute_result"
    }
   ],
   "source": [
    "from sklearn.metrics import confusion_matrix\n",
    "\n",
    "#Confusion Matrix\n",
    "# Compute confusion matrix\n",
    "cnf_matrix = confusion_matrix(y_test, y_predicted)\n",
    "np.set_printoptions(precision=2)\n",
    "cnf_matrix"
   ]
  },
  {
   "cell_type": "code",
   "execution_count": 30,
   "id": "169864c5",
   "metadata": {
    "execution": {
     "iopub.execute_input": "2021-10-16T08:48:26.471881Z",
     "iopub.status.busy": "2021-10-16T08:48:26.471185Z",
     "iopub.status.idle": "2021-10-16T08:48:29.476297Z",
     "shell.execute_reply": "2021-10-16T08:48:29.475767Z",
     "shell.execute_reply.started": "2021-10-16T08:40:05.115835Z"
    },
    "papermill": {
     "duration": 3.055272,
     "end_time": "2021-10-16T08:48:29.476431",
     "exception": false,
     "start_time": "2021-10-16T08:48:26.421159",
     "status": "completed"
    },
    "tags": []
   },
   "outputs": [
    {
     "name": "stdout",
     "output_type": "stream",
     "text": [
      "0.7071356414730462\n"
     ]
    }
   ],
   "source": [
    "from sklearn.ensemble import AdaBoostClassifier\n",
    "ada = AdaBoostClassifier()\n",
    "ada.fit(x_train,y_train)\n",
    "y_predicted = ada.predict(x_test)\n",
    "score = ada.score(x_test,y_test)\n",
    "print(score)"
   ]
  },
  {
   "cell_type": "code",
   "execution_count": 31,
   "id": "ba23bce9",
   "metadata": {
    "execution": {
     "iopub.execute_input": "2021-10-16T08:48:29.572264Z",
     "iopub.status.busy": "2021-10-16T08:48:29.571584Z",
     "iopub.status.idle": "2021-10-16T08:48:29.608594Z",
     "shell.execute_reply": "2021-10-16T08:48:29.609073Z",
     "shell.execute_reply.started": "2021-10-16T08:40:07.977593Z"
    },
    "papermill": {
     "duration": 0.087439,
     "end_time": "2021-10-16T08:48:29.609285",
     "exception": false,
     "start_time": "2021-10-16T08:48:29.521846",
     "status": "completed"
    },
    "tags": []
   },
   "outputs": [
    {
     "data": {
      "text/plain": [
       "array([[8561, 3077],\n",
       "       [3301, 6839]])"
      ]
     },
     "execution_count": 31,
     "metadata": {},
     "output_type": "execute_result"
    }
   ],
   "source": [
    "#Confusion Matrix\n",
    "# Compute confusion matrix\n",
    "cnf_matrix = confusion_matrix(y_test, y_predicted)\n",
    "np.set_printoptions(precision=2)\n",
    "cnf_matrix"
   ]
  },
  {
   "cell_type": "code",
   "execution_count": 32,
   "id": "653c8139",
   "metadata": {
    "execution": {
     "iopub.execute_input": "2021-10-16T08:48:29.708222Z",
     "iopub.status.busy": "2021-10-16T08:48:29.707564Z",
     "iopub.status.idle": "2021-10-16T08:48:39.611728Z",
     "shell.execute_reply": "2021-10-16T08:48:39.612235Z",
     "shell.execute_reply.started": "2021-10-16T08:40:08.002639Z"
    },
    "papermill": {
     "duration": 9.956671,
     "end_time": "2021-10-16T08:48:39.612410",
     "exception": false,
     "start_time": "2021-10-16T08:48:29.655739",
     "status": "completed"
    },
    "tags": []
   },
   "outputs": [
    {
     "name": "stdout",
     "output_type": "stream",
     "text": [
      "0.7208650932133346\n"
     ]
    }
   ],
   "source": [
    "from sklearn.ensemble import GradientBoostingClassifier\n",
    "gradient = GradientBoostingClassifier()\n",
    "gradient.fit(x_train,y_train)\n",
    "y_predicted = gradient.predict(x_test)\n",
    "score = gradient.score(x_test,y_test)\n",
    "print(score)"
   ]
  },
  {
   "cell_type": "markdown",
   "id": "247d3915",
   "metadata": {
    "papermill": {
     "duration": 0.045761,
     "end_time": "2021-10-16T08:48:39.704769",
     "exception": false,
     "start_time": "2021-10-16T08:48:39.659008",
     "status": "completed"
    },
    "tags": []
   },
   "source": [
    "\n",
    "- You can see gradient boosting model performing well, as compared to other model, also if you used hyperparameter then it will provide you greater accuracy."
   ]
  },
  {
   "cell_type": "markdown",
   "id": "85aef6a2",
   "metadata": {
    "papermill": {
     "duration": 0.04657,
     "end_time": "2021-10-16T08:48:39.797490",
     "exception": false,
     "start_time": "2021-10-16T08:48:39.750920",
     "status": "completed"
    },
    "tags": []
   },
   "source": [
    "**<span style=\"color:#65634a;\"> If you liked this Notebook, please do upvote.</span>**\n",
    "\n",
    "**<span style=\"color:#65634a;\"> If you have any suggestions or questions, I am all ears!</span>**\n",
    "\n",
    "**<span style=\"color:#65634a;\">Best Wishes!</span>**\n"
   ]
  },
  {
   "cell_type": "code",
   "execution_count": null,
   "id": "109fd163",
   "metadata": {
    "papermill": {
     "duration": 0.045706,
     "end_time": "2021-10-16T08:48:39.889745",
     "exception": false,
     "start_time": "2021-10-16T08:48:39.844039",
     "status": "completed"
    },
    "tags": []
   },
   "outputs": [],
   "source": []
  }
 ],
 "metadata": {
  "kernelspec": {
   "display_name": "Python 3 (ipykernel)",
   "language": "python",
   "name": "python3"
  },
  "language_info": {
   "codemirror_mode": {
    "name": "ipython",
    "version": 3
   },
   "file_extension": ".py",
   "mimetype": "text/x-python",
   "name": "python",
   "nbconvert_exporter": "python",
   "pygments_lexer": "ipython3",
   "version": "3.9.7"
  },
  "papermill": {
   "default_parameters": {},
   "duration": 407.91378,
   "end_time": "2021-10-16T08:48:41.346317",
   "environment_variables": {},
   "exception": null,
   "input_path": "__notebook__.ipynb",
   "output_path": "__notebook__.ipynb",
   "parameters": {},
   "start_time": "2021-10-16T08:41:53.432537",
   "version": "2.3.3"
  }
 },
 "nbformat": 4,
 "nbformat_minor": 5
}
